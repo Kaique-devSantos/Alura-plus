{
  "nbformat": 4,
  "nbformat_minor": 0,
  "metadata": {
    "colab": {
      "provenance": [],
      "authorship_tag": "ABX9TyMXGoHSOWQPKB2ujD7WnqSj",
      "include_colab_link": true
    },
    "kernelspec": {
      "name": "python3",
      "display_name": "Python 3"
    },
    "language_info": {
      "name": "python"
    }
  },
  "cells": [
    {
      "cell_type": "markdown",
      "metadata": {
        "id": "view-in-github",
        "colab_type": "text"
      },
      "source": [
        "<a href=\"https://colab.research.google.com/github/Kaique-devSantos/Alura-plus/blob/main/Untitled0.ipynb\" target=\"_parent\"><img src=\"https://colab.research.google.com/assets/colab-badge.svg\" alt=\"Open In Colab\"/></a>"
      ]
    },
    {
      "cell_type": "code",
      "execution_count": 18,
      "metadata": {
        "colab": {
          "base_uri": "https://localhost:8080/"
        },
        "id": "tx1MJF1nliQs",
        "outputId": "d01ae7c4-bf62-4e60-a816-9dbcb3e95238"
      },
      "outputs": [
        {
          "output_type": "stream",
          "name": "stdout",
          "text": [
            "12345\n",
            "valor 12345\n",
            "valor = 12345\n",
            "valor = 12345\n",
            "valor 12345\n",
            "valor = 12345\n",
            "valor = 12345\n"
          ]
        }
      ],
      "source": [
        "print(12345)\n",
        "print('valor',12345)\n",
        "print('valor = {}' .format(12345))\n",
        "print(f'valor = {12345}')\n",
        "print(\"valor\",12345)\n",
        "print(\"valor = {}\".format(12345))\n",
        "print(f\"valor = {12345}\")\n"
      ]
    }
  ]
}